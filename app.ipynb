{
 "cells": [
  {
   "cell_type": "code",
   "execution_count": 1,
   "id": "cbbbd17e",
   "metadata": {},
   "outputs": [
    {
     "name": "stdout",
     "output_type": "stream",
     "text": [
      "Requirement already satisfied: pyttsx3 in c:\\users\\hp\\anaconda3\\lib\\site-packages (2.90)\n",
      "Requirement already satisfied: pywin32 in c:\\users\\hp\\anaconda3\\lib\\site-packages (from pyttsx3) (302)\n",
      "Requirement already satisfied: pypiwin32 in c:\\users\\hp\\anaconda3\\lib\\site-packages (from pyttsx3) (223)\n",
      "Requirement already satisfied: comtypes in c:\\users\\hp\\anaconda3\\lib\\site-packages (from pyttsx3) (1.1.10)\n"
     ]
    }
   ],
   "source": [
    "!pip install pyttsx3"
   ]
  },
  {
   "cell_type": "code",
   "execution_count": 2,
   "id": "fd8979cd",
   "metadata": {},
   "outputs": [
    {
     "name": "stdout",
     "output_type": "stream",
     "text": [
      "Requirement already satisfied: PySimpleGUI in c:\\users\\hp\\anaconda3\\lib\\site-packages (4.60.5)\n"
     ]
    }
   ],
   "source": [
    "!pip install PySimpleGUI"
   ]
  },
  {
   "cell_type": "code",
   "execution_count": 3,
   "id": "952e730b",
   "metadata": {},
   "outputs": [],
   "source": [
    "import pyttsx3                                                            # Importing pyttsx3 library to convert text into speech.\n",
    "import pandas as pd                                                       # Importing pandas library\n",
    "from sklearn import preprocessing                                         # Importing sklearn library. This is a very powerfull library for machine learning. Scikit-learn is probably the most useful library for machine learning in Python. The sklearn library contains a lot of efficient tools for machine learning and statistical modeling including classification, regression, clustering and dimensionality reduction.\n",
    "from sklearn.neighbors import KNeighborsClassifier                        # Importing Knn Classifier from sklearn library.\n",
    "import numpy as np                                                        # Importing numpy to do stuffs related to arrays\n",
    "import PySimpleGUI as sg"
   ]
  },
  {
   "cell_type": "code",
   "execution_count": 4,
   "id": "6b98a8c2",
   "metadata": {},
   "outputs": [
    {
     "name": "stdout",
     "output_type": "stream",
     "text": [
      "      NITROGEN  PHOSPHORUS  POTASSIUM  TEMPERATURE   HUMIDITY        PH  \\\n",
      "0           90          42         43    20.879744  82.002744  6.502985   \n",
      "1           85          58         41    21.770462  80.319644  7.038096   \n",
      "2           60          55         44    23.004459  82.320763  7.840207   \n",
      "3           74          35         40    26.491096  80.158363  6.980401   \n",
      "4           78          42         42    20.130175  81.604873  7.628473   \n",
      "...        ...         ...        ...          ...        ...       ...   \n",
      "2195       107          34         32    26.774637  66.413269  6.780064   \n",
      "2196        99          15         27    27.417112  56.636362  6.086922   \n",
      "2197       118          33         30    24.131797  67.225123  6.362608   \n",
      "2198       117          32         34    26.272418  52.127394  6.758793   \n",
      "2199       104          18         30    23.603016  60.396475  6.779833   \n",
      "\n",
      "        RAINFALL    CROP  \n",
      "0     202.935536    rice  \n",
      "1     226.655537    rice  \n",
      "2     263.964248    rice  \n",
      "3     242.864034    rice  \n",
      "4     262.717340    rice  \n",
      "...          ...     ...  \n",
      "2195  177.774507  coffee  \n",
      "2196  127.924610  coffee  \n",
      "2197  173.322839  coffee  \n",
      "2198  127.175293  coffee  \n",
      "2199  140.937041  coffee  \n",
      "\n",
      "[2200 rows x 8 columns]\n",
      "(2200, 8)\n"
     ]
    }
   ],
   "source": [
    "excel = pd.read_excel('Crop.xlsx', header = 0)                            # Importing our excel data from a specific file.\n",
    "print(excel)                                                              # Printing our excel file data.\n",
    "print(excel.shape)"
   ]
  },
  {
   "cell_type": "code",
   "execution_count": 5,
   "id": "534b3c49",
   "metadata": {},
   "outputs": [],
   "source": [
    "engine = pyttsx3.init('sapi5')                                            # Defining the speech rate, type of voice etc.\n",
    "voices = engine.getProperty('voices')\n",
    "rate = engine.getProperty('rate')\n",
    "engine.setProperty('rate', rate-20)\n",
    "engine.setProperty('voice',voices[0].id)"
   ]
  },
  {
   "cell_type": "code",
   "execution_count": 6,
   "id": "0ac20c21",
   "metadata": {},
   "outputs": [],
   "source": [
    "def speak(audio):                                                         # Defining a speak function. We can call this function when we want to make our program to speak something.\n",
    "\tengine.say(audio) \n",
    "\tengine.runAndWait()"
   ]
  },
  {
   "cell_type": "code",
   "execution_count": 7,
   "id": "b7c45c8a",
   "metadata": {},
   "outputs": [],
   "source": [
    "le = preprocessing.LabelEncoder()                                         # Various machine learning algorithms require numerical input data, so you need to represent categorical columns in a numerical column. In order to encode this data, you could map each value to a number. This process is known as label encoding, and sklearn conveniently will do this for you using Label Encoder.\n",
    "crop = le.fit_transform(list(excel[\"CROP\"])) "
   ]
  },
  {
   "cell_type": "code",
   "execution_count": 8,
   "id": "d6af9f50",
   "metadata": {},
   "outputs": [],
   "source": [
    "NITROGEN = list(excel[\"NITROGEN\"])                                        # Making the whole row consisting of nitrogen values to come into nitrogen. \n",
    "PHOSPHORUS = list(excel[\"PHOSPHORUS\"])                                    # Making the whole row consisting of phosphorus values to come into phosphorus. \n",
    "POTASSIUM = list(excel[\"POTASSIUM\"])                                      # Making the whole row consisting of potassium values to come into potassium. \n",
    "TEMPERATURE = list(excel[\"TEMPERATURE\"])                                  # Making the whole row consisting of temperature values to come into temperature.\n",
    "HUMIDITY = list(excel[\"HUMIDITY\"])                                        # Making the whole row consisting of humidity values to come into humidity.\n",
    "PH = list(excel[\"PH\"])                                                    # Making the whole row consisting of ph values to come into ph.\n",
    "RAINFALL = list(excel[\"RAINFALL\"])                                        # Making the whole row consisting of rainfall values to come into rainfall."
   ]
  },
  {
   "cell_type": "code",
   "execution_count": 9,
   "id": "94c0d0ed",
   "metadata": {},
   "outputs": [
    {
     "name": "stdout",
     "output_type": "stream",
     "text": [
      "(2200, 7)\n",
      "(2200,)\n"
     ]
    }
   ],
   "source": [
    "features = list(zip(NITROGEN, PHOSPHORUS, POTASSIUM, TEMPERATURE, HUMIDITY, PH, RAINFALL))                     # Zipping all the features together \n",
    "features = np.array([NITROGEN, PHOSPHORUS, POTASSIUM, TEMPERATURE, HUMIDITY, PH, RAINFALL])                    # Converting all the features into a array form     \n",
    "\n",
    "features = features.transpose()                                                                                # Making transpose of the features \n",
    "print(features.shape)                                                                                          # Printing the shape of the features after getting transposed.\n",
    "print(crop.shape)                                                                                              # Printing the shape of crop. Please note that the shape of the features and crop should match each other to make predictions.\n"
   ]
  },
  {
   "cell_type": "code",
   "execution_count": 10,
   "id": "f8d2a47c",
   "metadata": {},
   "outputs": [
    {
     "data": {
      "text/plain": [
       "KNeighborsClassifier(n_neighbors=3)"
      ]
     },
     "execution_count": 10,
     "metadata": {},
     "output_type": "execute_result"
    }
   ],
   "source": [
    "model = KNeighborsClassifier(n_neighbors=3)                                                                    # The number of neighbors is the core deciding factor. K is generally an odd number if the number of classes is 2. When K=1, then the algorithm is known as the nearest neighbor algorithm.\n",
    "model.fit(features, crop)                                                                                      # fit your model on the train set using fit() and perform prediction on the test set using predict()."
   ]
  },
  {
   "cell_type": "code",
   "execution_count": 11,
   "id": "69adbff4",
   "metadata": {},
   "outputs": [],
   "source": [
    "layout = [[sg.Text('                      Crop Recommendation Assistant', font=(\"Helvetica\", 30), text_color = 'yellow')],                                                    # Defining the layout of the Graphical User Interface. It consist of some text, Buttons, and blanks to take Input.                                                        \n",
    "         [sg.Text('Please enter the following details :-', font=(\"Helvetica\", 20))],                                                                                          # We have defined the text size, font type, font size, blank size, colour of the text in the GUI.\n",
    "         [sg.Text('Enter ratio of Nitrogen in the soil                                  :', font=(\"Helvetica\", 20)), sg.Input(font=(\"Helvetica\",20), size = (20,1) )],\n",
    "         [sg.Text('Enter ratio of Phosphorous in the soil                           :', font=(\"Helvetica\", 20)), sg.Input(font=(\"Helvetica\", 20),size = (20,1))],\n",
    "         [sg.Text('Enter ratio of Potassium in the soil                               :', font=(\"Helvetica\", 20)), sg.Input(font=(\"Helvetica\", 20),size = (20,1))],\n",
    "         [sg.Text('Enter average Temperature value around the field        :', font=(\"Helvetica\", 20)), sg.Input(font=(\"Helvetica\", 20),size = (20,1)), sg.Text('*C', font=(\"Helvetica\", 20))], \n",
    "         [sg.Text('Enter average percentage of Humidity around the field :', font=(\"Helvetica\", 20)), sg.Input(font=(\"Helvetica\", 20),size = (20,1)), sg.Text('%', font=(\"Helvetica\", 20))], \n",
    "         [sg.Text('Enter PH value of the soil                                            :', font=(\"Helvetica\", 20)), sg.Input(font=(\"Helvetica\", 20),size = (20,1))], \n",
    "         [sg.Text('Enter average amount of Rainfall around the field        :', font=(\"Helvetica\", 20) ), sg.Input(font=(\"Helvetica\", 20),size = (20,1)),sg.Text('mm', font=(\"Helvetica\", 20))],\n",
    "         [sg.Text(size=(50,1),font=(\"Helvetica\",20) , text_color = 'yellow', key='-OUTPUT1-' )],\n",
    "         [sg.Button('Submit', font=(\"Helvetica\", 20)),sg.Button('Quit', font=(\"Helvetica\", 20))] ]\n",
    "window = sg.Window('Crop Recommendation Assistant', layout) \n"
   ]
  },
  {
   "cell_type": "code",
   "execution_count": 12,
   "id": "dd02d892",
   "metadata": {},
   "outputs": [
    {
     "name": "stdout",
     "output_type": "stream",
     "text": [
      "53\n",
      "['53' '67' '89' '24' '87' '6' '80']\n",
      "[['53' '67' '89' '24' '87' '6' '80']]\n",
      "[17]\n",
      "Papaya(पपीता)\n",
      "high humid\n",
      "warm\n",
      "less\n",
      "not to less but also not to high\n",
      "not to less but also not to high\n",
      "not to less but also not to high\n",
      "neutral\n"
     ]
    },
    {
     "name": "stderr",
     "output_type": "stream",
     "text": [
      "C:\\Users\\HP\\anaconda3\\lib\\site-packages\\sklearn\\base.py:566: FutureWarning: Arrays of bytes/strings is being converted to decimal numbers if dtype='numeric'. This behavior is deprecated in 0.24 and will be removed in 1.1 (renaming of 0.26). Please convert your data to numeric values explicitly instead.\n",
      "  X = check_array(X, **check_params)\n",
      "C:\\Users\\HP\\anaconda3\\lib\\site-packages\\sklearn\\neighbors\\_classification.py:228: FutureWarning: Unlike other reduction functions (e.g. `skew`, `kurtosis`), the default behavior of `mode` typically preserves the axis it acts along. In SciPy 1.11.0, this behavior will change: the default value of `keepdims` will become False, the `axis` over which the statistic is taken will be eliminated, and the value None will no longer be accepted. Set `keepdims` to True or False to avoid this warning.\n",
      "  mode, _ = stats.mode(_y[neigh_ind, k], axis=1)\n"
     ]
    }
   ],
   "source": [
    "while True: \n",
    "\tevent, values = window.read()\n",
    "\tif event == sg.WINDOW_CLOSED or event == 'Quit':                                                                                            # If the user will press the quit button then the program will end up.\n",
    "\t\tbreak\n",
    "\tprint(values[0])\n",
    "\tnitrogen_content =         values[0]                                                                                                        # Taking input from the user about nitrogen content in the soil.\n",
    "\tphosphorus_content =       values[1]                                                                                                        # Taking input from the user about phosphorus content in the soil.\n",
    "\tpotassium_content =        values[2]                                                                                                        # Taking input from the user about potassium content in the soil.\n",
    "\ttemperature_content =      values[3]                                                                                                        # Taking input from the user about the surrounding temperature.\n",
    "\thumidity_content =         values[4]                                                                                                        # Taking input from the user about the surrounding humidity. \n",
    "\tph_content =               values[5]                                                                                                        # Taking input from the user about the ph level of the soil.\n",
    "\trainfall =                 values[6]                                                                                                        # Taking input from the user about the rainfall.\n",
    "\tpredict1 = np.array([nitrogen_content,phosphorus_content, potassium_content, temperature_content, humidity_content, ph_content, rainfall])  # Converting all the data that we collected from the user into a array form to make further predictions.\n",
    "\tprint(predict1)                                                                                                                             # Printing the data after being converted into a array form.\n",
    "\tpredict1 = predict1.reshape(1,-1)                                                                              # Reshaping the input data so that it can be applied in the model for getting accurate results.\n",
    "\tprint(predict1)                                                                                                # Printing the input data value after being reshaped.\n",
    "\tpredict1 = model.predict(predict1)                                                                             # Applying the user input data into the model. \n",
    "\tprint(predict1)                                                                                                # Finally printing out the results.\n",
    "\tcrop_name = str()\n",
    "\tif predict1 == 0:                                                                                              # Above we have converted the crop names into numerical form, so that we can apply the machine learning model easily. Now we have to again change the numerical values into names of crop so that we can print it when required. \n",
    "\t\tcrop_name = 'Apple(सेब)'\n",
    "\telif predict1 == 1:\n",
    "\t\tcrop_name = 'Banana(केला)'\n",
    "\telif predict1 == 2:\n",
    "\t\tcrop_name = 'Blackgram(काला चना)'\n",
    "\telif predict1 == 3:\n",
    "\t\tcrop_name = 'Chickpea(काबुली चना)'\n",
    "\telif predict1 == 4:\n",
    "\t\tcrop_name = 'Coconut(नारियल)'\n",
    "\telif predict1 == 5:\n",
    "\t\tcrop_name = 'Coffee(कॉफ़ी)'\n",
    "\telif predict1 == 6:\n",
    "\t\tcrop_name = 'Cotton(कपास)'\n",
    "\telif predict1 == 7:\n",
    "\t\tcrop_name = 'Grapes(अंगूर)'\n",
    "\telif predict1 == 8:\n",
    "\t\tcrop_name = 'Jute(जूट)'\n",
    "\telif predict1 == 9:\n",
    "\t\tcrop_name = 'Kidneybeans(राज़में)'\n",
    "\telif predict1 == 10:\n",
    "\t\tcrop_name = 'Lentil(मसूर की दाल)'\n",
    "\telif predict1 == 11:\n",
    "\t\tcrop_name = 'Maize(मक्का)'\n",
    "\telif predict1 == 12:\n",
    "\t\tcrop_name = 'Mango(आम)'\n",
    "\telif predict1 == 13:\n",
    "\t\tcrop_name = 'Mothbeans(मोठबीन)'\n",
    "\telif predict1 == 14:\n",
    "\t\tcrop_name = 'Mungbeans(मूंग)'\n",
    "\telif predict1 == 15:\n",
    "\t\tcrop_name = 'Muskmelon(खरबूजा)'\n",
    "\telif predict1 == 16:\n",
    "\t\tcrop_name = 'Orange(संतरा)'\n",
    "\telif predict1 == 17:\n",
    "\t\tcrop_name = 'Papaya(पपीता)'\n",
    "\telif predict1 == 18:\n",
    "\t\tcrop_name = 'Pigeonpeas(कबूतर के मटर)'\n",
    "\telif predict1 == 19:\n",
    "\t\tcrop_name = 'Pomegranate(अनार)'\n",
    "\telif predict1 == 20:\n",
    "\t\tcrop_name = 'Rice(चावल)'\n",
    "\telif predict1 == 21:\n",
    "\t\tcrop_name = 'Watermelon(तरबूज)'\n",
    "\n",
    "\tif int(humidity_content) >=1 and int(humidity_content)<= 33 :                                                # Here I have divided the humidity values into three categories i.e low humid, medium humid, high humid.\n",
    "\t\thumidity_level = 'low humid'\n",
    "\telif int(humidity_content) >=34 and int(humidity_content) <= 66:\n",
    "\t\thumidity_level = 'medium humid'\n",
    "\telse:\n",
    "\t\thumidity_level = 'high humid'\n",
    "\n",
    "\tif int(temperature_content) >= 0 and int(temperature_content)<= 6:                                           # Here I have divided the temperature values into three categories i.e cool, warm, hot.\n",
    "\t\ttemperature_level = 'cool'\n",
    "\telif int(temperature_content) >=7 and int(temperature_content) <= 25:\n",
    "\t\ttemperature_level = 'warm'\n",
    "\telse:\n",
    "\t\ttemperature_level= 'hot' \n",
    "\n",
    "\tif int(rainfall) >=1 and int(rainfall) <= 100:                                                              # Here I have divided the humidity values into three categories i.e less, moderate, heavy rain.\n",
    "\t\trainfall_level = 'less'\n",
    "\telif int(rainfall) >= 101 and int(rainfall) <=200:\n",
    "\t\trainfall_level = 'moderate'\n",
    "\telif int(rainfall) >=201:\n",
    "\t\trainfall_level = 'heavy rain'\n",
    "\n",
    "\tif int(nitrogen_content) >= 1 and int(nitrogen_content) <= 50:                                             # Here I have divided the nitrogen values into three categories.\n",
    "\t\tnitrogen_level = 'less'\n",
    "\telif int(nitrogen_content) >=51 and int(nitrogen_content) <=100:\n",
    "\t\tnitrogen_level = 'not to less but also not to high'\n",
    "\telif int(nitrogen_content) >=101:\n",
    "\t\tnitrogen_level = 'high'\n",
    "\n",
    "\tif int(phosphorus_content) >= 1 and int(phosphorus_content) <= 50:                                         # Here I have divided the phosphorus values into three categories.\n",
    "\t\tphosphorus_level = 'less'\n",
    "\telif int(phosphorus_content) >= 51 and int(phosphorus_content) <=100:\n",
    "\t\tphosphorus_level = 'not to less but also not to high'\n",
    "\telif int(phosphorus_content) >=101:\n",
    "\t\tphosphorus_level = 'high'\n",
    "\n",
    "\tif int(potassium_content) >= 1 and int(potassium_content) <=50:                                           # Here I have divided the potassium values into three categories.\n",
    "\t\tpotassium_level = 'less'\n",
    "\telif int(potassium_content) >= 51 and int(potassium_content) <= 100:\n",
    "\t\tpotassium_level = 'not to less but also not to high'\n",
    "\telif int(potassium_content) >=101:\n",
    "\t\tpotassium_level = 'high'\n",
    "\n",
    "\tif float(ph_content) >=0 and float(ph_content) <=5:                                                        # Here I have divided the ph values into three categories.\n",
    "\t\tphlvl = 'acidic' \n",
    "\telif float(ph_content) >= 6 and float(ph_content) <= 8:\n",
    "\t\tphlvl = 'neutral'\n",
    "\telif float(ph_content) >= 9 and float(ph_content) <= 14:\n",
    "\t\tphlvl = 'alkaline'\n",
    "\t\n",
    "\tprint(crop_name)\n",
    "\tprint(humidity_level)\n",
    "\tprint(temperature_level)\n",
    "\tprint(rainfall_level)\n",
    "\tprint(nitrogen_level)\n",
    "\tprint(phosphorus_level)\n",
    "\tprint(potassium_level)\n",
    "\tprint(phlvl)\n",
    "\t\n",
    "\tspeak(\"Sir according to the data that you provided to me. The ratio of nitrogen in the soil is  \" + nitrogen_level + \". The ratio of phosphorus in the soil is  \" + phosphorus_level + \". The ratio of potassium in the soil is  \" + potassium_level + \". The temperature level around the field is  \" + temperature_level + \". The humidity level around the field is  \" + humidity_level + \". The ph type of the soil is  \" + phlvl + \". The amount of rainfall is  \" + rainfall_level )  # Making our program to speak about the data that it has received about the crop in front of the user.\n",
    "\twindow['-OUTPUT1-'].update('The best crop that you can grow : ' + crop_name )                                     # Suggesting the best crop after prediction.\n",
    "\tspeak(\"The best crop that you can grow is  \" + crop_name)                                                         # Speaking the name of the predicted crop.\n",
    "\n",
    "\n",
    "\t\n",
    "\n",
    "window.close() "
   ]
  },
  {
   "cell_type": "code",
   "execution_count": null,
   "id": "faa7e03d",
   "metadata": {},
   "outputs": [],
   "source": []
  },
  {
   "cell_type": "code",
   "execution_count": null,
   "id": "df68942e",
   "metadata": {},
   "outputs": [],
   "source": []
  }
 ],
 "metadata": {
  "kernelspec": {
   "display_name": "Python 3 (ipykernel)",
   "language": "python",
   "name": "python3"
  },
  "language_info": {
   "codemirror_mode": {
    "name": "ipython",
    "version": 3
   },
   "file_extension": ".py",
   "mimetype": "text/x-python",
   "name": "python",
   "nbconvert_exporter": "python",
   "pygments_lexer": "ipython3",
   "version": "3.9.13"
  }
 },
 "nbformat": 4,
 "nbformat_minor": 5
}
